{
 "cells": [
  {
   "cell_type": "code",
   "execution_count": 2,
   "metadata": {},
   "outputs": [
    {
     "data": {
      "text/plain": [
       "'c:\\\\Users\\\\schel\\\\Documents\\\\GitHub\\\\Rosalind'"
      ]
     },
     "execution_count": 2,
     "metadata": {},
     "output_type": "execute_result"
    }
   ],
   "source": [
    "## Rosalind ## \n",
    "import sys, os\n",
    "os.getcwd()\n",
    "\n",
    "aa"
   ]
  }
 ],
 "metadata": {
  "interpreter": {
   "hash": "e7eee5f4a173f40e79502b8f986ff33bb168a1cd7fac86b120889b04bab421dc"
  },
  "kernelspec": {
   "display_name": "Python 3.7.5 32-bit",
   "language": "python",
   "name": "python3"
  },
  "language_info": {
   "codemirror_mode": {
    "name": "ipython",
    "version": 3
   },
   "file_extension": ".py",
   "mimetype": "text/x-python",
   "name": "python",
   "nbconvert_exporter": "python",
   "pygments_lexer": "ipython3",
   "version": "3.7.5"
  },
  "orig_nbformat": 4
 },
 "nbformat": 4,
 "nbformat_minor": 2
}
